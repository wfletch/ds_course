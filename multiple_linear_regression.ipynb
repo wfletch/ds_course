{
 "cells": [
  {
   "cell_type": "code",
   "execution_count": null,
   "id": "3b9f0338",
   "metadata": {},
   "outputs": [],
   "source": [
    "# Standard Imports\n",
    "import numpy as np\n",
    "import pandas as pd\n",
    "import matplotlib.pyplot as plt\n",
    "\n",
    "\n",
    "# Lienar Regressions have assumptions\n",
    "# 1. Linearity\n",
    "# 2. Homoscedasticity. Variance is equal\n",
    "# 3. Multivariate Normality. Normality of Error distribution\n",
    "# 4. Independence. No Autocorrelation - No Pattern\n",
    "# 5.Lack of Multicollinearity. Predictors are not correlated with each other\n",
    "# Also, look out for outliers. They can impact the linear regression dratically\n",
    "\n",
    "# This is stupid. Bootcamps for complicated topics are a waste of time."
   ]
  }
 ],
 "metadata": {
  "kernelspec": {
   "display_name": "Python 3 (Spyder)",
   "language": "python3",
   "name": "python3"
  },
  "language_info": {
   "codemirror_mode": {
    "name": "ipython",
    "version": 3
   },
   "file_extension": ".py",
   "mimetype": "text/x-python",
   "name": "python",
   "nbconvert_exporter": "python",
   "pygments_lexer": "ipython3",
   "version": "3.9.16"
  }
 },
 "nbformat": 4,
 "nbformat_minor": 5
}
