{
 "cells": [
  {
   "cell_type": "code",
   "execution_count": 5,
   "id": "be4c3cf5",
   "metadata": {},
   "outputs": [],
   "source": [
    "import numpy as n\n",
    "import pandas as p\n",
    "import matplotlib.pyplot as plt"
   ]
  },
  {
   "cell_type": "code",
   "execution_count": null,
   "id": "0ed9d44c",
   "metadata": {},
   "outputs": [],
   "source": [
    "# Let's Go!"
   ]
  },
  {
   "cell_type": "code",
   "execution_count": null,
   "id": "5352515e",
   "metadata": {},
   "outputs": [],
   "source": []
  }
 ],
 "metadata": {
  "kernelspec": {
   "display_name": "ds_course-user",
   "language": "python",
   "name": "ds_course-user"
  },
  "language_info": {
   "codemirror_mode": {
    "name": "ipython",
    "version": 3
   },
   "file_extension": ".py",
   "mimetype": "text/x-python",
   "name": "python",
   "nbconvert_exporter": "python",
   "pygments_lexer": "ipython3",
   "version": "3.9.13"
  }
 },
 "nbformat": 4,
 "nbformat_minor": 5
}
