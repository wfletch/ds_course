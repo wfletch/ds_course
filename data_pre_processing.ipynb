{
 "cells": [
  {
   "cell_type": "code",
   "execution_count": 26,
   "id": "5111d967",
   "metadata": {},
   "outputs": [],
   "source": [
    "import numpy as np\n",
    "import pandas as pd\n",
    "import matplotlib.pyplot as plt\n",
    "from sklearn.impute import SimpleImputer\n",
    "from sklearn.compose import ColumnTransformer\n",
    "from sklearn.preprocessing import OneHotEncoder\n",
    "from sklearn.preprocessing import LabelEncoder\n",
    "from sklearn.model_selection import train_test_split as tts\n",
    "from sklearn.preprocessing import StandardScaler"
   ]
  },
  {
   "cell_type": "code",
   "execution_count": 5,
   "id": "19f42647",
   "metadata": {},
   "outputs": [],
   "source": [
    "# Let's Go!"
   ]
  },
  {
   "cell_type": "code",
   "execution_count": 11,
   "id": "caf4af51",
   "metadata": {},
   "outputs": [],
   "source": [
    "dataset = pd.read_csv('course_assets/Part 1 - Data Preprocessing/Section 2 -------------------- Part 1 - Data Preprocessing --------------------/Python/Data.csv'\n",
    "                )\n",
    "\n",
    "# holy wow, it worked"
   ]
  },
  {
   "cell_type": "code",
   "execution_count": null,
   "id": "0c5256b4",
   "metadata": {},
   "outputs": [],
   "source": []
  },
  {
   "cell_type": "code",
   "execution_count": 14,
   "id": "bfe88377",
   "metadata": {},
   "outputs": [],
   "source": [
    "x = dataset.iloc[:, :-1].values\n",
    "y = dataset.iloc[:, -1].values"
   ]
  },
  {
   "cell_type": "code",
   "execution_count": null,
   "id": "e3c2fe84",
   "metadata": {},
   "outputs": [],
   "source": []
  },
  {
   "cell_type": "code",
   "execution_count": 15,
   "id": "b15f2e2d",
   "metadata": {},
   "outputs": [],
   "source": [
    "# But how do we handle the missing data?\n",
    "# There are many ways, but we can just use average."
   ]
  },
  {
   "cell_type": "code",
   "execution_count": 16,
   "id": "4b647573",
   "metadata": {},
   "outputs": [
    {
     "data": {
      "text/plain": [
       "array([['France', 44.0, 72000.0],\n",
       "       ['Spain', 27.0, 48000.0],\n",
       "       ['Germany', 30.0, 54000.0],\n",
       "       ['Spain', 38.0, 61000.0],\n",
       "       ['Germany', 40.0, 63777.77777777778],\n",
       "       ['France', 35.0, 58000.0],\n",
       "       ['Spain', 38.77777777777778, 52000.0],\n",
       "       ['France', 48.0, 79000.0],\n",
       "       ['Germany', 50.0, 83000.0],\n",
       "       ['France', 37.0, 67000.0]], dtype=object)"
      ]
     },
     "execution_count": 16,
     "metadata": {},
     "output_type": "execute_result"
    }
   ],
   "source": [
    "imputer = SimpleImputer(missing_values=np.nan, strategy='mean')\n",
    "# An imputer is a way of handling missing values, and what stratagy we follow\n",
    "imputer.fit(x[:,1:3])\n",
    "# This RETURNS A COPY!\n",
    "x[:,1:3] = imputer.transform(x[:,1:3])\n",
    "x"
   ]
  },
  {
   "cell_type": "code",
   "execution_count": 19,
   "id": "9b9190c0",
   "metadata": {},
   "outputs": [],
   "source": [
    "# Encoding Categorical data. Quite Cool!\n",
    "ct = ColumnTransformer(transformers=[('encoder', OneHotEncoder(), [0])], remainder='passthrough')\n",
    "x = np.array(ct.fit_transform(x))"
   ]
  },
  {
   "cell_type": "code",
   "execution_count": null,
   "id": "85d60203",
   "metadata": {},
   "outputs": [],
   "source": [
    "# Ok, but we need to deal with the Yes/No"
   ]
  },
  {
   "cell_type": "code",
   "execution_count": 21,
   "id": "2ee691c6",
   "metadata": {},
   "outputs": [],
   "source": [
    "le = LabelEncoder()\n",
    "y = le.fit_transform(y)"
   ]
  },
  {
   "cell_type": "code",
   "execution_count": 32,
   "id": "479beda4",
   "metadata": {},
   "outputs": [],
   "source": [
    "# Ok, so now we have a wonderful preprocess!\n",
    "# We need to split the data into Training set and Test set\n",
    "\n",
    "# Always feature scale AFTER the split to prevent information leakage (This makes sense)\n",
    "x_train, x_test, y_train, y_test = tts(x, y, test_size = 0.2, random_state = 1) # random_state = FIXED_SEED"
   ]
  },
  {
   "cell_type": "code",
   "execution_count": 33,
   "id": "2c3546b1",
   "metadata": {},
   "outputs": [],
   "source": [
    "# Ok, so now onto feature scalling\n",
    "\n",
    "# Common Techniques:\n",
    "# Standardisation: (x  - sigma(x)) / std(x) -> -3 and 3 (Well... just multiple sigma levels)\n",
    "# Normalisation: (x - min(x)) / (max (x) - min(x)) -> Forces values between 0 and 1\n",
    "# Ahh, going back to uni days\n",
    "# Standardisation seems to work most of the time. But more theory and logical information is needed."
   ]
  },
  {
   "cell_type": "code",
   "execution_count": 34,
   "id": "5d73b412",
   "metadata": {},
   "outputs": [
    {
     "data": {
      "text/plain": [
       "array([[0.0, 1.0, 0.0, -1.4661817944830124, -0.9069571034860727],\n",
       "       [1.0, 0.0, 0.0, -0.44973664397484414, 0.2056403393225306]],\n",
       "      dtype=object)"
      ]
     },
     "execution_count": 34,
     "metadata": {},
     "output_type": "execute_result"
    }
   ],
   "source": [
    "sc = StandardScaler()\n",
    "# fit does not MODIFY\n",
    "x_train[:, 3:] = sc.fit_transform(x_train[:,3:])\n",
    "\n",
    "# The sc object contains the fit which we learn from the training set\n",
    "# We can use that content on the transformation on different data\n",
    "x_test[:, 3:] = sc.transform(x_test[:,3:])\n",
    "x_test"
   ]
  },
  {
   "cell_type": "code",
   "execution_count": null,
   "id": "72b1bc62",
   "metadata": {},
   "outputs": [],
   "source": [
    "# Useful, but we can do more."
   ]
  }
 ],
 "metadata": {
  "kernelspec": {
   "display_name": "Python 3 (Spyder)",
   "language": "python3",
   "name": "ds_course-user"
  },
  "language_info": {
   "codemirror_mode": {
    "name": "ipython",
    "version": 3
   },
   "file_extension": ".py",
   "mimetype": "text/x-python",
   "name": "python",
   "nbconvert_exporter": "python",
   "pygments_lexer": "ipython3",
   "version": "3.9.16"
  }
 },
 "nbformat": 4,
 "nbformat_minor": 5
}
